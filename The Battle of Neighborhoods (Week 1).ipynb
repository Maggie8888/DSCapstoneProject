{
    "nbformat_minor": 1, 
    "cells": [
        {
            "source": "# The Battle of Neighborhoods (Week 1)", 
            "cell_type": "markdown", 
            "metadata": {
                "collapsed": true
            }
        }, 
        {
            "source": "## Introduction & Business Problem :", 
            "cell_type": "markdown", 
            "metadata": {}
        }, 
        {
            "source": "**Problem Background:**", 
            "cell_type": "markdown", 
            "metadata": {}
        }, 
        {
            "source": "New York is the most populous city in the United States.It is diverse and is the financial capital of USA.It provides lot of business oppourtunities and business friendly environment.It has attracted many different players into the market. The city is a major center for banking and finance, retailing, world trade, transportation, tourism, real estate, new media, traditional media, advertising, legal services, accountancy, insurance, theater, fashion, and the arts in the United States. This also means that the market is highly competitive. As it is highly developed city so cost of doing business is also one of the highest. Thus, any new business venture or expansion needs to be analysed carefully. The insights derived from analysis will give good understanding of the business environment which help in strategically targeting the market. This will help in reduction of risk. And the Return on Investment will be reasonable.\n\n", 
            "cell_type": "markdown", 
            "metadata": {}
        }, 
        {
            "source": "**Problem Description:**", 
            "cell_type": "markdown", 
            "metadata": {}
        }, 
        {
            "source": "New York is famous for its excelllent cuisine. It's food culture includes an array of international cuisines influenced by the city's immigrant history. Central and Eastern European immigrants, especially Jewish immigrants - bagels, cheesecake, hot dogs, knishes, and delicatessens.\n- Italian immigrants:New York-style pizza and Italian cuisine.\n- Jewish immigrants and Irish immigrants: pastrami and corned beef\n- Chinese and other Asian restaurants\n- Street food\n- Middle Eastern foods such as falafel <br>\nThe city is home to \"nearly one thousand of the finest and most diverse haute cuisine restaurants in the world\", according to Michelin.\nSo it is evident that to survive in such competitive market it is very important to startegically plan. Various factors need to be studied in order to decide on the Location such as : \n\n- New York Population \n- New York City Demographics \n- Cuisine served / Menu of the competitors \n- Segmentation of the Borough \n- Untapped markets \n- Saturated markets etc\n", 
            "cell_type": "markdown", 
            "metadata": {}
        }, 
        {
            "source": "**Target population:**", 
            "cell_type": "markdown", 
            "metadata": {}
        }, 
        {
            "source": "The objective is to locate and recommend to the management which neighborhood of New york city will be best choice to start a restaurant. The Management also expects to understand the rationale of the recommendations made.\nThis would interest anyone who wants to start a new restaurant in New york city.", 
            "cell_type": "markdown", 
            "metadata": {}
        }, 
        {
            "source": "**Criteria:**", 
            "cell_type": "markdown", 
            "metadata": {}
        }, 
        {
            "source": "The success criteria of the project will be a good recommendation of borough/Neighborhood choice based on Lack of such restaurants in that location and nearest suppliers of ingredients.", 
            "cell_type": "markdown", 
            "metadata": {}
        }, 
        {
            "execution_count": null, 
            "cell_type": "code", 
            "metadata": {}, 
            "outputs": [], 
            "source": ""
        }
    ], 
    "metadata": {
        "kernelspec": {
            "display_name": "Python 3.5", 
            "name": "python3", 
            "language": "python"
        }, 
        "language_info": {
            "mimetype": "text/x-python", 
            "nbconvert_exporter": "python", 
            "version": "3.5.5", 
            "name": "python", 
            "file_extension": ".py", 
            "pygments_lexer": "ipython3", 
            "codemirror_mode": {
                "version": 3, 
                "name": "ipython"
            }
        }
    }, 
    "nbformat": 4
}